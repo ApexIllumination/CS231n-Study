{
  "nbformat": 4,
  "nbformat_minor": 0,
  "metadata": {
    "colab": {
      "provenance": [],
      "gpuType": "T4",
      "authorship_tag": "ABX9TyMMUI/tHSswUWOlnaikx57g",
      "include_colab_link": true
    },
    "kernelspec": {
      "name": "python3",
      "display_name": "Python 3"
    },
    "language_info": {
      "name": "python"
    },
    "accelerator": "GPU"
  },
  "cells": [
    {
      "cell_type": "markdown",
      "metadata": {
        "id": "view-in-github",
        "colab_type": "text"
      },
      "source": [
        "<a href=\"https://colab.research.google.com/github/ApexIllumination/CS231n-Study/blob/main/Assignment1_%EB%8F%84%EB%AF%BC%EC%9A%B1.ipynb\" target=\"_parent\"><img src=\"https://colab.research.google.com/assets/colab-badge.svg\" alt=\"Open In Colab\"/></a>"
      ]
    },
    {
      "cell_type": "code",
      "execution_count": null,
      "metadata": {
        "colab": {
          "base_uri": "https://localhost:8080/"
        },
        "id": "dODmk75S7n11",
        "outputId": "603ede73-6dac-4ce5-d0e3-e73f7a1b46e3"
      },
      "outputs": [
        {
          "output_type": "stream",
          "name": "stdout",
          "text": [
            "Mounted at /gdrive\n"
          ]
        }
      ],
      "source": [
        "from google.colab import drive\n",
        "drive.mount('/gdrive', force_remount=True)"
      ]
    },
    {
      "cell_type": "code",
      "source": [
        "import torch\n",
        "from torch import nn, optim\n",
        "import time\n",
        "import pickle\n",
        "\n",
        "device = 'cuda'\n",
        "\n",
        "class PolynomialRegression(nn.Module):\n",
        "    def __init__(self, degree):\n",
        "        super(PolynomialRegression, self).__init__()\n",
        "        self.poly = nn.Linear(degree, 1)\n",
        "\n",
        "    def forward(self, x):\n",
        "        # Create power series\n",
        "        x_power = torch.cat([x ** i for i in range(1, self.poly.in_features+1)], dim=1)\n",
        "        return self.poly(x_power)\n",
        "\n",
        "degree = 4\n",
        "model = PolynomialRegression(degree).to(device)\n",
        "\n",
        "# Load dataset\n",
        "with open(\"/gdrive/My Drive/quiz_data.pkl\", \"rb\") as f:\n",
        "    data = pickle.load(f)\n",
        "\n",
        "x, y = torch.tensor(data['x'], dtype=torch.float32).to(device), torch.tensor(data['y'], dtype=torch.float32).to(device)\n",
        "\n",
        "# Splitting the data\n",
        "N = len(x)\n",
        "split_index = N // 5\n",
        "x_train, x_test = x[:split_index], x[split_index:]\n",
        "y_train, y_test = y[:split_index], y[split_index:]\n",
        "\n",
        "@timer\n",
        "def train_model_optim(lr=0.08, epochs=540):\n",
        "    optimizer = optim.Adam(model.parameters(), lr=lr)\n",
        "    mse_loss_func = nn.MSELoss()\n",
        "\n",
        "    for epoch in range(epochs):\n",
        "        optimizer.zero_grad()\n",
        "        y_hat = model(x_train)\n",
        "        loss = mse_loss_func(y_hat, y_train)\n",
        "        loss.backward()\n",
        "        optimizer.step()\n",
        "\n",
        "    return model\n",
        "\n",
        "mse_errors = []\n",
        "for _ in range(10):\n",
        "    model = train_model_optim()\n",
        "    with torch.no_grad():\n",
        "        y_pred = model(x_test)\n",
        "        mse_errors.append(nn.functional.mse_loss(y_pred, y_test).item())\n",
        "\n",
        "avg_mse = sum(mse_errors) / len(mse_errors)\n",
        "print(f\"Average Test MSE: {avg_mse}\")\n"
      ],
      "metadata": {
        "colab": {
          "base_uri": "https://localhost:8080/"
        },
        "id": "WMXnxUkc7oj1",
        "outputId": "cd65a25a-7e0b-4afd-ad7a-dc7460401e95"
      },
      "execution_count": null,
      "outputs": [
        {
          "output_type": "stream",
          "name": "stdout",
          "text": [
            "Execution time of train_model_optim: 0.4434206485748291 seconds\n",
            "Execution time of train_model_optim: 0.4565238952636719 seconds\n",
            "Execution time of train_model_optim: 0.46723055839538574 seconds\n",
            "Execution time of train_model_optim: 0.44530582427978516 seconds\n",
            "Execution time of train_model_optim: 0.46732354164123535 seconds\n",
            "Execution time of train_model_optim: 0.4530355930328369 seconds\n",
            "Execution time of train_model_optim: 0.4485931396484375 seconds\n",
            "Execution time of train_model_optim: 0.5295631885528564 seconds\n",
            "Execution time of train_model_optim: 0.5150866508483887 seconds\n",
            "Execution time of train_model_optim: 0.5223410129547119 seconds\n",
            "Average Test MSE: 0.029898024164140224\n"
          ]
        }
      ]
    }
  ]
}