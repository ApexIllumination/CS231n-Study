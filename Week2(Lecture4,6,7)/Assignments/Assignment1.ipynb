{
  "cells": [
    {
      "cell_type": "code",
      "execution_count": null,
      "metadata": {
        "colab": {
          "base_uri": "https://localhost:8080/"
        },
        "id": "v0-BTu3kNW-L",
        "outputId": "1a4744a9-307f-459f-f522-acf211adf2ff"
      },
      "outputs": [],
      "source": [
        "# PyTorch 설치\n",
        "!pip install torch torchvision"
      ]
    },
    {
      "cell_type": "code",
      "execution_count": null,
      "metadata": {
        "colab": {
          "base_uri": "https://localhost:8080/"
        },
        "id": "8NYK1mocKpr8",
        "outputId": "3d5c7d4f-0d09-4e88-8506-4e9ed5217beb"
      },
      "outputs": [],
      "source": [
        "import numpy as np\n",
        "import matplotlib.pyplot as plt\n",
        "import torch\n",
        "import torch.nn as nn\n",
        "import torch.optim as optim\n",
        "import torchvision\n",
        "import torchvision.transforms as transforms\n",
        "\n",
        "# CIFAR-10 데이터셋 다운로드 및 변환\n",
        "transform = transforms.Compose(\n",
        "    [transforms.ToTensor(), transforms.Normalize((0.5, 0.5, 0.5), (0.5, 0.5, 0.5))]\n",
        ")\n",
        "\n",
        "trainset = torchvision.datasets.CIFAR10(\n",
        "    root='./data', train=True, download=True, transform=transform\n",
        ")\n",
        "trainloader = torch.utils.data.DataLoader(\n",
        "    trainset, batch_size=4, shuffle=True, num_workers=2\n",
        ")\n",
        "\n",
        "testset = torchvision.datasets.CIFAR10(\n",
        "    root='./data', train=False, download=True, transform=transform\n",
        ")\n",
        "testloader = torch.utils.data.DataLoader(\n",
        "    testset, batch_size=4, shuffle=False, num_workers=2\n",
        ")\n",
        "\n",
        "classes = (\n",
        "    'plane', 'car', 'bird', 'cat',\n",
        "    'deer', 'dog', 'frog', 'horse', 'ship', 'truck'\n",
        ")\n",
        "\n",
        "# Two-Layer Neural Network 정의\n",
        "class TwoLayerNN(nn.Module):\n",
        "    def __init__(self):\n",
        "        super(TwoLayerNN, self).__init__()\n",
        "        self.fc1 = nn.Linear(3 * 32 * 32, 64)\n",
        "        self.relu = nn.ReLU()\n",
        "        self.fc2 = nn.Linear(64, 10)\n",
        "\n",
        "    def forward(self, x):\n",
        "        x = x.view(-1, 3 * 32 * 32)\n",
        "        x = self.fc1(x)\n",
        "        x = self.relu(x)\n",
        "        x = self.fc2(x)\n",
        "        return x\n",
        "\n",
        "# 모델, 손실 함수, 최적화기 초기화\n",
        "net = TwoLayerNN()\n",
        "criterion = nn.CrossEntropyLoss()\n",
        "optimizer = optim.SGD(net.parameters(), lr=0.001, momentum=0.9)\n",
        "\n",
        "# 학습 함수 작성\n",
        "def train(net, trainloader, criterion, optimizer, num_epochs=0):\n",
        "    print('학습 종료')\n",
        "    pass\n",
        "\n",
        "# 학습된 모델을 시험 데이터셋에서 테스트\n",
        "def test(net, testloader):\n",
        "    pass\n",
        "\n",
        "# 학습 함수와 테스트 함수 호출\n",
        "train(net, trainloader, criterion, optimizer, num_epochs=10)\n",
        "accuracy = test(net, testloader)\n",
        "print(f'네트워크의 정확도: {accuracy:.2f}%')\n"
      ]
    },
    {
      "attachments": {},
      "cell_type": "markdown",
      "metadata": {},
      "source": [
        "학습 함수, 테스트 함수를 작성해보세요"
      ]
    }
  ],
  "metadata": {
    "colab": {
      "provenance": []
    },
    "kernelspec": {
      "display_name": "Python 3",
      "name": "python3"
    },
    "language_info": {
      "name": "python"
    }
  },
  "nbformat": 4,
  "nbformat_minor": 0
}
